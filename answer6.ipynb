{
 "cells": [
  {
   "cell_type": "markdown",
   "metadata": {
    "slideshow": {
     "slide_type": "slide"
    }
   },
   "source": [
    "# Weather Guess\n",
    "\n",
    "### COhPy Challenge Issued Mar, 2016\n",
    "\n",
    "> Andrew Kubera"
   ]
  },
  {
   "cell_type": "markdown",
   "metadata": {
    "slideshow": {
     "slide_type": "slide"
    }
   },
   "source": [
    "# Part One\n",
    "\n",
    "### Given a month, return list of dates in that month that COhPy has met "
   ]
  },
  {
   "cell_type": "markdown",
   "metadata": {
    "slideshow": {
     "slide_type": "slide"
    }
   },
   "source": [
    "Use the powerful **`dateutil`** module. This gives us a great `relativedelta` class which allows specifying things such as \"last monday of month\""
   ]
  },
  {
   "cell_type": "code",
   "execution_count": 1,
   "metadata": {
    "collapsed": false,
    "slideshow": {
     "slide_type": "slide"
    }
   },
   "outputs": [],
   "source": [
    "from dateutil.relativedelta import relativedelta\n",
    "from dateutil.parser import parse as parse_datetime\n",
    "\n",
    "# days of the week constants\n",
    "from dateutil.rrule import MO, TU, WE, TH, FR, SA, SU\n",
    "\n",
    "from datetime import *"
   ]
  },
  {
   "cell_type": "code",
   "execution_count": 2,
   "metadata": {
    "collapsed": false,
    "slideshow": {
     "slide_type": "subslide"
    }
   },
   "outputs": [],
   "source": [
    "class DateFinder:\n",
    "    \n",
    "    EPOCH = parse_datetime('September 28, 2009')\n",
    "    \n",
    "    # jump to last day (31 for all months) then backtrack to previous monday \n",
    "    LAST_MONDAY_OF_MONTH = relativedelta(day=31, weekday=MO(-1))\n",
    "    \n",
    "    # a special case for May - second to last monday of month\n",
    "    SECOND_TO_LAST_MONDAY_OF_MONTH = relativedelta(day=31, weekday=MO(-2))\n",
    "    \n",
    "    # jump back one year\n",
    "    PREVIOUS_YEAR = relativedelta(years=-1)\n",
    "    \n",
    "    def __init__(self, monthname):\n",
    "        \"\"\"\n",
    "        Create the finder from the name of a month.\n",
    "        :param monthname (str): Long or short name of a month (English).\n",
    "        \"\"\"\n",
    "        start_date = parse_datetime(monthname) \n",
    "        delta_rule = self.delta_rule_for_month(start_date.month)\n",
    "        start_date += delta_rule\n",
    "        if start_date > datetime.today():\n",
    "            start_date += self.PREVIOUS_YEAR + delta_rule\n",
    "\n",
    "        self.month = start_date.month\n",
    "        self.start = start_date\n",
    "        self.delta = delta_rule\n",
    "\n",
    "    @staticmethod\n",
    "    def delta_rule_for_month(month):\n",
    "        # special November case\n",
    "        if month == 11:\n",
    "            return relativedelta(year=1970)\n",
    "\n",
    "        # special December case - find first monday after the 3rd\n",
    "        elif month == 12:\n",
    "            return relativedelta(day=3, weekday=MO(1))\n",
    "\n",
    "        # sepcial May case - second to last monday\n",
    "        elif month == 5:\n",
    "            return DateFinder.SECOND_TO_LAST_MONDAY_OF_MONTH\n",
    "\n",
    "        # general case\n",
    "        else:\n",
    "            return DateFinder.LAST_MONDAY_OF_MONTH\n",
    "\n",
    "    def __iter__(self):\n",
    "        # loop until we go past the 'EPOCH' date\n",
    "        n = self.start\n",
    "        while n >= self.EPOCH:\n",
    "            yield n\n",
    "            n += relativedelta(years=-1) + self.delta\n",
    "\n",
    "    def __str__(self):\n",
    "        return ', '.join(map(lambda dt: dt.strftime(\"%m/%d/%Y\"), self))"
   ]
  },
  {
   "cell_type": "code",
   "execution_count": 3,
   "metadata": {
    "collapsed": false,
    "slideshow": {
     "slide_type": "slide"
    }
   },
   "outputs": [
    {
     "data": {
      "text/plain": [
       "[datetime.datetime(2016, 1, 25, 0, 0),\n",
       " datetime.datetime(2015, 1, 26, 0, 0),\n",
       " datetime.datetime(2014, 1, 27, 0, 0),\n",
       " datetime.datetime(2013, 1, 28, 0, 0),\n",
       " datetime.datetime(2012, 1, 30, 0, 0),\n",
       " datetime.datetime(2011, 1, 31, 0, 0),\n",
       " datetime.datetime(2010, 1, 25, 0, 0)]"
      ]
     },
     "execution_count": 3,
     "metadata": {},
     "output_type": "execute_result"
    }
   ],
   "source": [
    "list(DateFinder('Jan'))"
   ]
  },
  {
   "cell_type": "code",
   "execution_count": 4,
   "metadata": {
    "collapsed": false,
    "slideshow": {
     "slide_type": "slide"
    }
   },
   "outputs": [
    {
     "name": "stdout",
     "output_type": "stream",
     "text": [
      "Jan: 01/25/2016, 01/26/2015, 01/27/2014, 01/28/2013, 01/30/2012, 01/31/2011, 01/25/2010\n",
      "Feb: 02/29/2016, 02/23/2015, 02/24/2014, 02/25/2013, 02/27/2012, 02/28/2011, 02/22/2010\n",
      "Mar: 03/28/2016, 03/30/2015, 03/31/2014, 03/25/2013, 03/26/2012, 03/28/2011, 03/29/2010\n",
      "Apr: 04/25/2016, 04/27/2015, 04/28/2014, 04/29/2013, 04/30/2012, 04/25/2011, 04/26/2010\n",
      "May: 05/18/2015, 05/19/2014, 05/20/2013, 05/21/2012, 05/23/2011, 05/24/2010\n",
      "Jun: 06/29/2015, 06/30/2014, 06/24/2013, 06/25/2012, 06/27/2011, 06/28/2010\n",
      "Jul: 07/27/2015, 07/28/2014, 07/29/2013, 07/30/2012, 07/25/2011, 07/26/2010\n",
      "Aug: 08/31/2015, 08/25/2014, 08/26/2013, 08/27/2012, 08/29/2011, 08/30/2010\n",
      "Sep: 09/28/2015, 09/29/2014, 09/30/2013, 09/24/2012, 09/26/2011, 09/27/2010, 09/28/2009\n",
      "Oct: 10/26/2015, 10/27/2014, 10/28/2013, 10/29/2012, 10/31/2011, 10/25/2010, 10/26/2009\n",
      "Nov: \n",
      "Dec: 12/07/2015, 12/08/2014, 12/09/2013, 12/03/2012, 12/05/2011, 12/06/2010, 12/07/2009\n"
     ]
    }
   ],
   "source": [
    "months = \"Jan Feb Mar Apr May Jun Jul Aug Sep Oct Nov Dec\".split()\n",
    "\n",
    "print(\"\\n\".join(\"%s: %s\" % (mo, DateFinder(mo)) for mo in months))"
   ]
  },
  {
   "cell_type": "markdown",
   "metadata": {
    "slideshow": {
     "slide_type": "slide"
    }
   },
   "source": [
    "# Part Two\n",
    "\n",
    "### Given a set of dates (particularly the dates returned in Part One), return the high temperature in Columbus, Ohio at the airport (weather station KCMH) for each of those dates."
   ]
  },
  {
   "cell_type": "markdown",
   "metadata": {
    "slideshow": {
     "slide_type": "slide"
    }
   },
   "source": [
    "I used NOAA daily climate data for all days between 2009-2016, imported as a csv file from their website."
   ]
  },
  {
   "cell_type": "markdown",
   "metadata": {
    "slideshow": {
     "slide_type": "slide"
    }
   },
   "source": [
    "To load the csv, let's use pandas!"
   ]
  },
  {
   "cell_type": "code",
   "execution_count": 5,
   "metadata": {
    "collapsed": false,
    "slideshow": {
     "slide_type": "slide"
    }
   },
   "outputs": [],
   "source": [
    "import pandas as pd\n",
    "import numpy as np\n",
    "%matplotlib inline\n",
    "import matplotlib.pyplot as plt"
   ]
  },
  {
   "cell_type": "markdown",
   "metadata": {
    "slideshow": {
     "slide_type": "slide"
    }
   },
   "source": [
    "This dataset uses the value -9999 to indicate no value, replace this with numpy's nan. Normalize datetime string to actual datetime objects, and use it as the index."
   ]
  },
  {
   "cell_type": "code",
   "execution_count": 6,
   "metadata": {
    "collapsed": false,
    "slideshow": {
     "slide_type": "slide"
    }
   },
   "outputs": [
    {
     "name": "stdout",
     "output_type": "stream",
     "text": [
      "Loaded 2667 days of data\n"
     ]
    }
   ],
   "source": [
    "weather_data = pd.read_csv(\"weather-data.csv\")\n",
    "weather_data[weather_data == -9999] = np.nan\n",
    "weather_data.DATE = weather_data.DATE.apply(lambda x: parse_datetime(str(x)))\n",
    "weather_data = weather_data.set_index(['DATE'])\n",
    "weather_data = weather_data[['TMAX', 'TMIN', 'PRCP']]\n",
    "print(\"Loaded %d days of data\" % len(weather_data))"
   ]
  },
  {
   "cell_type": "code",
   "execution_count": 7,
   "metadata": {
    "collapsed": false,
    "slideshow": {
     "slide_type": "slide"
    }
   },
   "outputs": [
    {
     "data": {
      "text/html": [
       "<div>\n",
       "<table border=\"1\" class=\"dataframe\">\n",
       "  <thead>\n",
       "    <tr style=\"text-align: right;\">\n",
       "      <th></th>\n",
       "      <th>TMAX</th>\n",
       "      <th>TMIN</th>\n",
       "      <th>PRCP</th>\n",
       "    </tr>\n",
       "    <tr>\n",
       "      <th>DATE</th>\n",
       "      <th></th>\n",
       "      <th></th>\n",
       "      <th></th>\n",
       "    </tr>\n",
       "  </thead>\n",
       "  <tbody>\n",
       "    <tr>\n",
       "      <th>2009-01-01</th>\n",
       "      <td>33</td>\n",
       "      <td>18</td>\n",
       "      <td>0.00</td>\n",
       "    </tr>\n",
       "    <tr>\n",
       "      <th>2009-01-02</th>\n",
       "      <td>44</td>\n",
       "      <td>29</td>\n",
       "      <td>0.00</td>\n",
       "    </tr>\n",
       "    <tr>\n",
       "      <th>2009-01-03</th>\n",
       "      <td>42</td>\n",
       "      <td>21</td>\n",
       "      <td>0.00</td>\n",
       "    </tr>\n",
       "    <tr>\n",
       "      <th>2009-01-04</th>\n",
       "      <td>50</td>\n",
       "      <td>33</td>\n",
       "      <td>0.14</td>\n",
       "    </tr>\n",
       "    <tr>\n",
       "      <th>2009-01-05</th>\n",
       "      <td>35</td>\n",
       "      <td>27</td>\n",
       "      <td>0.00</td>\n",
       "    </tr>\n",
       "  </tbody>\n",
       "</table>\n",
       "</div>"
      ],
      "text/plain": [
       "            TMAX  TMIN  PRCP\n",
       "DATE                        \n",
       "2009-01-01    33    18  0.00\n",
       "2009-01-02    44    29  0.00\n",
       "2009-01-03    42    21  0.00\n",
       "2009-01-04    50    33  0.14\n",
       "2009-01-05    35    27  0.00"
      ]
     },
     "execution_count": 7,
     "metadata": {},
     "output_type": "execute_result"
    }
   ],
   "source": [
    "weather_data.head()"
   ]
  },
  {
   "cell_type": "code",
   "execution_count": 39,
   "metadata": {
    "collapsed": false,
    "slideshow": {
     "slide_type": "slide"
    }
   },
   "outputs": [
    {
     "data": {
      "text/plain": [
       "<matplotlib.axes._subplots.AxesSubplot at 0x10ccf4b00>"
      ]
     },
     "execution_count": 39,
     "metadata": {},
     "output_type": "execute_result"
    },
    {
     "data": {
      "image/png": "[encoded data removed]",
      "text/plain": [
       "<matplotlib.figure.Figure at 0x10cff0b38>"
      ]
     },
     "metadata": {},
     "output_type": "display_data"
    }
   ],
   "source": [
    "weather_data.plot(y=['TMAX'])"
   ]
  },
  {
   "cell_type": "code",
   "execution_count": 47,
   "metadata": {
    "collapsed": false,
    "slideshow": {
     "slide_type": "slide"
    }
   },
   "outputs": [],
   "source": [
    "def get_max_temp_for_date(date):\n",
    "    if isinstance(date, str):\n",
    "        date = parse_datetime(date)\n",
    "    date_slice = slice(date, date)\n",
    "    data = weather_data[date_slice].TMAX\n",
    "    return float(data) if not data.empty else None"
   ]
  },
  {
   "cell_type": "code",
   "execution_count": 48,
   "metadata": {
    "collapsed": false,
    "slideshow": {
     "slide_type": "slide"
    }
   },
   "outputs": [
    {
     "data": {
      "text/plain": [
       "54.0"
      ]
     },
     "execution_count": 48,
     "metadata": {},
     "output_type": "execute_result"
    }
   ],
   "source": [
    "get_max_temp_for_date('2013-04-13')"
   ]
  },
  {
   "cell_type": "code",
   "execution_count": 49,
   "metadata": {
    "collapsed": false,
    "slideshow": {
     "slide_type": "slide"
    }
   },
   "outputs": [
    {
     "name": "stdout",
     "output_type": "stream",
     "text": [
      "2016-04-25 ~ None\n",
      "2015-04-27 ~ 54.0\n",
      "2014-04-28 ~ 59.0\n",
      "2013-04-29 ~ 65.0\n",
      "2012-04-30 ~ 84.0\n",
      "2011-04-25 ~ 74.0\n",
      "2010-04-26 ~ 57.0\n"
     ]
    }
   ],
   "source": [
    "for april_date in DateFinder(\"april\"):\n",
    "    tmp = get_max_temp_for_date(april_date)\n",
    "    print(april_date.date(), \"~\", tmp)"
   ]
  },
  {
   "cell_type": "code",
   "execution_count": 50,
   "metadata": {
    "collapsed": false
   },
   "outputs": [
    {
     "name": "stdout",
     "output_type": "stream",
     "text": [
      "Jan:\n",
      "\t2016-01-25 ~ 46.0\n",
      "\t2015-01-26 ~ 27.0\n",
      "\t2014-01-27 ~ 42.0\n",
      "\t2013-01-28 ~ 51.0\n",
      "\t2012-01-30 ~ 50.0\n",
      "\t2011-01-31 ~ 32.0\n",
      "\t2010-01-25 ~ 49.0\n",
      "Feb:\n",
      "\t2016-02-29 ~ 57.0\n",
      "\t2015-02-23 ~ 19.0\n",
      "\t2014-02-24 ~ 34.0\n",
      "\t2013-02-25 ~ 46.0\n",
      "\t2012-02-27 ~ 58.0\n",
      "\t2011-02-28 ~ 63.0\n",
      "\t2010-02-22 ~ 40.0\n",
      "Mar:\n",
      "\t2016-03-28 ~ 59.0\n",
      "\t2015-03-30 ~ 57.0\n",
      "\t2014-03-31 ~ 65.0\n",
      "\t2013-03-25 ~ 36.0\n",
      "\t2012-03-26 ~ 52.0\n",
      "\t2011-03-28 ~ 42.0\n",
      "\t2010-03-29 ~ 50.0\n",
      "Apr:\n",
      "\t2015-04-27 ~ 54.0\n",
      "\t2014-04-28 ~ 59.0\n",
      "\t2013-04-29 ~ 65.0\n",
      "\t2012-04-30 ~ 84.0\n",
      "\t2011-04-25 ~ 74.0\n",
      "\t2010-04-26 ~ 57.0\n",
      "May:\n",
      "\t2015-05-18 ~ 79.0\n",
      "\t2014-05-19 ~ 71.0\n",
      "\t2013-05-20 ~ 86.0\n",
      "\t2012-05-21 ~ 87.0\n",
      "\t2011-05-23 ~ 82.0\n",
      "\t2010-05-24 ~ 83.0\n",
      "Jun:\n",
      "\t2015-06-29 ~ 66.0\n",
      "\t2014-06-30 ~ 87.0\n",
      "\t2013-06-24 ~ 87.0\n",
      "\t2012-06-25 ~ 80.0\n",
      "\t2011-06-27 ~ 83.0\n",
      "\t2010-06-28 ~ 85.0\n",
      "Jul:\n",
      "\t2015-07-27 ~ 87.0\n",
      "\t2014-07-28 ~ 76.0\n",
      "\t2013-07-29 ~ 76.0\n",
      "\t2012-07-30 ~ 90.0\n",
      "\t2011-07-25 ~ 89.0\n",
      "\t2010-07-26 ~ 83.0\n",
      "Aug:\n",
      "\t2015-08-31 ~ 86.0\n",
      "\t2014-08-25 ~ 87.0\n",
      "\t2013-08-26 ~ 90.0\n",
      "\t2012-08-27 ~ 84.0\n",
      "\t2011-08-29 ~ 78.0\n",
      "\t2010-08-30 ~ 93.0\n",
      "Sep:\n",
      "\t2015-09-28 ~ 82.0\n",
      "\t2014-09-29 ~ 84.0\n",
      "\t2013-09-30 ~ 75.0\n",
      "\t2012-09-24 ~ 68.0\n",
      "\t2011-09-26 ~ 70.0\n",
      "\t2010-09-27 ~ 61.0\n",
      "\t2009-09-28 ~ 65.0\n",
      "Oct:\n",
      "\t2015-10-26 ~ 62.0\n",
      "\t2014-10-27 ~ 79.0\n",
      "\t2013-10-28 ~ 62.0\n",
      "\t2012-10-29 ~ 41.0\n",
      "\t2011-10-31 ~ 52.0\n",
      "\t2010-10-25 ~ 71.0\n",
      "\t2009-10-26 ~ 67.0\n",
      "Nov:\n",
      "Dec:\n",
      "\t2015-12-07 ~ 51.0\n",
      "\t2014-12-08 ~ 45.0\n",
      "\t2013-12-09 ~ 35.0\n",
      "\t2012-12-03 ~ 63.0\n",
      "\t2011-12-05 ~ 53.0\n",
      "\t2010-12-06 ~ 25.0\n",
      "\t2009-12-07 ~ 35.0\n"
     ]
    }
   ],
   "source": [
    "for month in months:\n",
    "    print(\"%s:\" % month)\n",
    "    for next_date in DateFinder(month):\n",
    "        tmp = get_max_temp_for_date(next_date)\n",
    "        if tmp:\n",
    "            print(\"\\t%s ~ %.1f\" % (next_date.date(), tmp))"
   ]
  },
  {
   "cell_type": "markdown",
   "metadata": {
    "slideshow": {
     "slide_type": "slide"
    }
   },
   "source": [
    "# Part Three\n",
    "\n",
    "### Predict the temperature of the 2016 May COhPy meeting"
   ]
  },
  {
   "cell_type": "markdown",
   "metadata": {
    "slideshow": {
     "slide_type": "slide"
    }
   },
   "source": [
    "Use a model to predict temperatures for May 23, 2016"
   ]
  },
  {
   "cell_type": "code",
   "execution_count": 156,
   "metadata": {
    "collapsed": false,
    "slideshow": {
     "slide_type": "slide"
    }
   },
   "outputs": [
    {
     "name": "stdout",
     "output_type": "stream",
     "text": [
      "[[Model]]\n",
      "    Model(polynomial)\n",
      "[[Fit Statistics]]\n",
      "    # function evals   = 19\n",
      "    # data points      = 505\n",
      "    # variables        = 7\n",
      "    chi-square         = 60715.005\n",
      "    reduced chi-square = 121.918\n",
      "[[Variables]]\n",
      "    c0:   79.0704397 +/- 3.891774 (4.92%) (init= 80)\n",
      "    c1:  -1.08062101 +/- 1.030406 (95.35%) (init=-0.1)\n",
      "    c2:   0.05991534 +/- 0.086410 (144.22%) (init= 0.5)\n",
      "    c3:  -0.00190923 +/- 0.003152 (165.10%) (init= 0)\n",
      "    c4:   3.0077e-05 +/- 5.60e-05 (186.05%) (init= 0)\n",
      "    c5:  -2.3793e-07 +/- 4.76e-07 (199.89%) (init= 0)\n",
      "    c6:   7.4759e-10 +/- 1.55e-09 (207.20%) (init= 0)\n",
      "[[Correlations]] (unreported correlations are <  0.250)\n",
      "    C(c5, c6)                    = -0.997 \n",
      "    C(c4, c5)                    = -0.995 \n",
      "    C(c3, c4)                    = -0.992 \n",
      "    C(c2, c3)                    = -0.987 \n",
      "    C(c4, c6)                    =  0.984 \n",
      "    C(c3, c5)                    =  0.976 \n",
      "    C(c1, c2)                    = -0.972 \n",
      "    C(c2, c4)                    =  0.961 \n",
      "    C(c3, c6)                    = -0.955 \n",
      "    C(c2, c5)                    = -0.930 \n",
      "    C(c1, c3)                    =  0.924 \n",
      "    C(c2, c6)                    =  0.900 \n",
      "    C(c0, c1)                    = -0.891 \n",
      "    C(c1, c4)                    = -0.876 \n",
      "    C(c1, c5)                    =  0.832 \n",
      "    C(c1, c6)                    = -0.793 \n",
      "    C(c0, c2)                    =  0.784 \n",
      "    C(c0, c3)                    = -0.705 \n",
      "    C(c0, c4)                    =  0.646 \n",
      "    C(c0, c5)                    = -0.599 \n",
      "    C(c0, c6)                    =  0.560 \n",
      "\n"
     ]
    }
   ],
   "source": [
    "model = PolynomialModel(6)\n",
    "params = model.make_params(c0=80, c1=-.1, c2=.5, c3=0, c4=0, c5=0, c6=0)\n",
    "\n",
    "N = 100\n",
    "x = np.arange(1, N + 2)\n",
    "Y = []\n",
    "for year in range(2010, 2015):\n",
    "    date = datetime(year, 5, 22)\n",
    "    Y.append(weather_data[date:date - timedelta(days=N):-1].TMAX)\n",
    "\n",
    "Y = np.array(Y)\n",
    "fit = model.fit(Y, params, x=x)\n",
    "print(fit.fit_report(min_correl=0.25))\n"
   ]
  },
  {
   "cell_type": "code",
   "execution_count": 152,
   "metadata": {
    "collapsed": false
   },
   "outputs": [
    {
     "data": {
      "text/plain": [
       "[<matplotlib.lines.Line2D at 0x10ec6e7b8>]"
      ]
     },
     "execution_count": 152,
     "metadata": {},
     "output_type": "execute_result"
    },
    {
     "data": {
      "image/png": "[encoded data removed]",
      "text/plain": [
       "<matplotlib.figure.Figure at 0x10ec6e978>"
      ]
     },
     "metadata": {},
     "output_type": "display_data"
    }
   ],
   "source": [
    "plt.plot(x, Y.T, '*')\n",
    "plt.plot(x, model.eval(fit.params, x=x))\n"
   ]
  },
  {
   "cell_type": "markdown",
   "metadata": {},
   "source": [
    "Well, that's not a good set of data!! Oh well, what is the value of the intercept?"
   ]
  },
  {
   "cell_type": "code",
   "execution_count": 155,
   "metadata": {
    "collapsed": false
   },
   "outputs": [
    {
     "data": {
      "text/plain": [
       "79.070439701712445"
      ]
     },
     "execution_count": 155,
     "metadata": {},
     "output_type": "execute_result"
    }
   ],
   "source": [
    "fit.params['c0'].value"
   ]
  },
  {
   "cell_type": "markdown",
   "metadata": {
    "collapsed": false
   },
   "source": [
    "Final Prediction Answer: 79.1ºF"
   ]
  },
  {
   "cell_type": "code",
   "execution_count": null,
   "metadata": {
    "collapsed": true
   },
   "outputs": [],
   "source": []
  }
 ],
 "metadata": {
  "celltoolbar": "Slideshow",
  "kernelspec": {
   "display_name": "Python 3",
   "language": "python",
   "name": "python3"
  },
  "language_info": {
   "codemirror_mode": {
    "name": "ipython",
    "version": 3
   },
   "file_extension": ".py",
   "mimetype": "text/x-python",
   "name": "python",
   "nbconvert_exporter": "python",
   "pygments_lexer": "ipython3",
   "version": "3.5.1"
  }
 },
 "nbformat": 4,
 "nbformat_minor": 0
}
